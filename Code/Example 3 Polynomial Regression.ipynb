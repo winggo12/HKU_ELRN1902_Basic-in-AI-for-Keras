{
 "cells": [
  {
   "cell_type": "code",
   "execution_count": null,
   "metadata": {},
   "outputs": [],
   "source": [
    "from keras.models import Sequential\n",
    "\n",
    "from keras.layers import Dense, Dropout, Activation\n",
    "\n",
    "# from keras.optimizers import Adam\n",
    "\n",
    "from tensorflow.keras.optimizers import Adam\n",
    "\n",
    "import numpy as np\n",
    "\n",
    "import matplotlib.pyplot as plt\n",
    "\n",
    "from mpl_toolkits.mplot3d import Axes3D"
   ]
  },
  {
   "cell_type": "code",
   "execution_count": null,
   "metadata": {},
   "outputs": [],
   "source": [
    "\n",
    "positive_training_data = np.random.random((10000,2))* 10\n",
    "\n",
    "pos_neg_training_data = np.dot(positive_training_data,[[1,0],[0,-1]])\n",
    "\n",
    "neg_pos_training_data = np.dot(positive_training_data,[[-1,0],[0,1]])\n",
    "\n",
    "negative_training_data = np.dot(positive_training_data,[[-1,0],[0,-1]])\n",
    "\n",
    "training_data = np.concatenate((positive_training_data,pos_neg_training_data,neg_pos_training_data,negative_training_data), axis=0)\n"
   ]
  },
  {
   "cell_type": "code",
   "execution_count": null,
   "metadata": {},
   "outputs": [],
   "source": [
    "print(positive_training_data)"
   ]
  },
  {
   "cell_type": "code",
   "execution_count": null,
   "metadata": {},
   "outputs": [],
   "source": [
    "x = training_data[:, 0]\n",
    "\n",
    "y = training_data[:, 1]\n",
    "\n",
    "z = x*x + y + 2\n",
    "\n",
    "fig = plt.figure()\n",
    "\n",
    "ax = fig.add_subplot(111, projection='3d')\n",
    "\n",
    "ax.scatter(x,y,z)\n",
    "\n",
    "plt.show()\n",
    "\n",
    "z.shape=(40000,1)\n"
   ]
  },
  {
   "cell_type": "code",
   "execution_count": null,
   "metadata": {},
   "outputs": [],
   "source": [
    "model = Sequential()\n",
    "\n",
    "model.add(Dense(300, activation='relu', input_dim=2))\n",
    "model.add(Dense(300, activation='relu'))\n",
    "model.add(Dense(1, activation='linear'))\n",
    "\n",
    "model.compile(loss='mean_squared_error', optimizer='adam', metrics=['mse'])\n",
    "\n",
    "history = model.fit(training_data, z , epochs=300, batch_size=1024)\n"
   ]
  },
  {
   "cell_type": "code",
   "execution_count": null,
   "metadata": {},
   "outputs": [],
   "source": [
    "testing_data = np.array([-3,4])\n",
    "\n",
    "testing_data.shape=(1,2)\n",
    "\n",
    "prediction = model.predict(testing_data)\n",
    "\n",
    "print(prediction)\n"
   ]
  },
  {
   "cell_type": "code",
   "execution_count": null,
   "metadata": {},
   "outputs": [],
   "source": [
    "from matplotlib import pyplot"
   ]
  },
  {
   "cell_type": "code",
   "execution_count": null,
   "metadata": {},
   "outputs": [],
   "source": [
    "pyplot.plot(history.history['loss'])"
   ]
  },
  {
   "cell_type": "markdown",
   "metadata": {},
   "source": [
    "Example: \n",
    "\n",
    "How about \n",
    "\n",
    "z = x^4 + y^3\n",
    "\n",
    "Can you modify a network that can estimate the value correctly?\n",
    "\n",
    "Lets have a competition, what is your prediction if x = -3 , y =4 ?\n",
    "\n",
    "The correct answer should be z = 145 :D"
   ]
  }
 ],
 "metadata": {
  "kernelspec": {
   "display_name": "keras",
   "language": "python",
   "name": "keras"
  },
  "language_info": {
   "codemirror_mode": {
    "name": "ipython",
    "version": 3
   },
   "file_extension": ".py",
   "mimetype": "text/x-python",
   "name": "python",
   "nbconvert_exporter": "python",
   "pygments_lexer": "ipython3",
   "version": "3.7.10"
  }
 },
 "nbformat": 4,
 "nbformat_minor": 2
}
