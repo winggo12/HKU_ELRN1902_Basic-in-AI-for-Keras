{
 "cells": [
  {
   "cell_type": "code",
   "execution_count": 4,
   "metadata": {},
   "outputs": [],
   "source": [
    "from keras.models import Sequential\n",
    "\n",
    "from keras.layers import Dense, Dropout, Activation\n",
    "\n",
    "# from keras.optimizers import Adam\n",
    "\n",
    "from tensorflow.keras.optimizers import Adam\n",
    "\n",
    "import numpy as np\n",
    "\n",
    "import matplotlib.pyplot as plt\n",
    "\n",
    "from mpl_toolkits.mplot3d import Axes3D"
   ]
  },
  {
   "cell_type": "code",
   "execution_count": 5,
   "metadata": {},
   "outputs": [],
   "source": [
    "\n",
    "positive_training_data = np.random.random((10000,2))* 10\n",
    "\n",
    "pos_neg_training_data = np.dot(positive_training_data,[[1,0],[0,-1]])\n",
    "\n",
    "neg_pos_training_data = np.dot(positive_training_data,[[-1,0],[0,1]])\n",
    "\n",
    "negative_training_data = np.dot(positive_training_data,[[-1,0],[0,-1]])\n",
    "\n",
    "training_data = np.concatenate((positive_training_data,pos_neg_training_data,neg_pos_training_data,negative_training_data), axis=0)\n"
   ]
  },
  {
   "cell_type": "code",
   "execution_count": 6,
   "metadata": {},
   "outputs": [
    {
     "data": {
      "image/png": "[encoded data removed]",
      "text/plain": [
       "<Figure size 432x288 with 1 Axes>"
      ]
     },
     "metadata": {
      "needs_background": "light"
     },
     "output_type": "display_data"
    }
   ],
   "source": [
    "x = training_data[:, 0]\n",
    "\n",
    "y = training_data[:, 1]\n",
    "\n",
    "z = x*x + y + 2\n",
    "\n",
    "fig = plt.figure()\n",
    "\n",
    "ax = fig.add_subplot(111, projection='3d')\n",
    "\n",
    "ax.scatter(x,y,z)\n",
    "\n",
    "plt.show()\n",
    "\n",
    "z.shape=(40000,1)\n"
   ]
  },
  {
   "cell_type": "code",
   "execution_count": 7,
   "metadata": {},
   "outputs": [
    {
     "name": "stdout",
     "output_type": "stream",
     "text": [
      "Epoch 1/25\n",
      "313/313 [==============================] - 10s 632us/step - loss: 888.6926 - acc: 0.0000e+00 - mse: 888.6926\n",
      "Epoch 2/25\n",
      "313/313 [==============================] - 0s 648us/step - loss: 48.6356 - acc: 0.0000e+00 - mse: 48.6356\n",
      "Epoch 3/25\n",
      "313/313 [==============================] - 0s 639us/step - loss: 15.2050 - acc: 0.0000e+00 - mse: 15.2050\n",
      "Epoch 4/25\n",
      "313/313 [==============================] - 0s 644us/step - loss: 3.6410 - acc: 0.0000e+00 - mse: 3.6410\n",
      "Epoch 5/25\n",
      "313/313 [==============================] - 0s 659us/step - loss: 1.2298 - acc: 0.0000e+00 - mse: 1.2298\n",
      "Epoch 6/25\n",
      "313/313 [==============================] - 0s 652us/step - loss: 0.4622 - acc: 0.0000e+00 - mse: 0.4622\n",
      "Epoch 7/25\n",
      "313/313 [==============================] - 0s 633us/step - loss: 0.2433 - acc: 0.0000e+00 - mse: 0.2433\n",
      "Epoch 8/25\n",
      "313/313 [==============================] - 0s 638us/step - loss: 0.1381 - acc: 0.0000e+00 - mse: 0.1381\n",
      "Epoch 9/25\n",
      "313/313 [==============================] - 0s 635us/step - loss: 0.0822 - acc: 0.0000e+00 - mse: 0.0822\n",
      "Epoch 10/25\n",
      "313/313 [==============================] - 0s 646us/step - loss: 0.0570 - acc: 0.0000e+00 - mse: 0.0570\n",
      "Epoch 11/25\n",
      "313/313 [==============================] - 0s 703us/step - loss: 0.0445 - acc: 0.0000e+00 - mse: 0.0445\n",
      "Epoch 12/25\n",
      "313/313 [==============================] - 0s 683us/step - loss: 0.0312 - acc: 0.0000e+00 - mse: 0.0312\n",
      "Epoch 13/25\n",
      "313/313 [==============================] - 0s 634us/step - loss: 0.0259 - acc: 0.0000e+00 - mse: 0.0259\n",
      "Epoch 14/25\n",
      "313/313 [==============================] - 0s 660us/step - loss: 0.0212 - acc: 0.0000e+00 - mse: 0.0212\n",
      "Epoch 15/25\n",
      "313/313 [==============================] - 0s 648us/step - loss: 0.0206 - acc: 0.0000e+00 - mse: 0.0206\n",
      "Epoch 16/25\n",
      "313/313 [==============================] - 0s 653us/step - loss: 0.0171 - acc: 0.0000e+00 - mse: 0.0171\n",
      "Epoch 17/25\n",
      "313/313 [==============================] - 0s 656us/step - loss: 0.0159 - acc: 0.0000e+00 - mse: 0.0159\n",
      "Epoch 18/25\n",
      "313/313 [==============================] - 0s 730us/step - loss: 0.0194 - acc: 0.0000e+00 - mse: 0.0194\n",
      "Epoch 19/25\n",
      "313/313 [==============================] - 0s 721us/step - loss: 0.0143 - acc: 0.0000e+00 - mse: 0.0143\n",
      "Epoch 20/25\n",
      "313/313 [==============================] - 0s 640us/step - loss: 0.0153 - acc: 0.0000e+00 - mse: 0.0153\n",
      "Epoch 21/25\n",
      "313/313 [==============================] - 0s 639us/step - loss: 0.0125 - acc: 0.0000e+00 - mse: 0.0125\n",
      "Epoch 22/25\n",
      "313/313 [==============================] - 0s 701us/step - loss: 0.0185 - acc: 0.0000e+00 - mse: 0.0185\n",
      "Epoch 23/25\n",
      "313/313 [==============================] - 0s 701us/step - loss: 0.0143 - acc: 0.0000e+00 - mse: 0.0143\n",
      "Epoch 24/25\n",
      "313/313 [==============================] - 0s 639us/step - loss: 0.0192 - acc: 0.0000e+00 - mse: 0.0192\n",
      "Epoch 25/25\n",
      "313/313 [==============================] - 0s 722us/step - loss: 0.0117 - acc: 0.0000e+00 - mse: 0.0117\n"
     ]
    }
   ],
   "source": [
    "model = Sequential()\n",
    "\n",
    "#model.add(Dense(1, activation='relu', input_dim=2))\n",
    "\n",
    "model.add(Dense(100, activation='relu', input_dim=2))\n",
    "\n",
    "model.add(Dense(100, activation='relu'))\n",
    "\n",
    "model.add(Dense(1, activation='linear'))\n",
    "\n",
    "model.compile(loss='mean_squared_error', optimizer='adam', metrics=['acc','mse'])\n",
    "\n",
    "history = model.fit(training_data, z , epochs=25, batch_size=128)\n"
   ]
  },
  {
   "cell_type": "code",
   "execution_count": 8,
   "metadata": {},
   "outputs": [
    {
     "name": "stdout",
     "output_type": "stream",
     "text": [
      "[[14.855698]]\n"
     ]
    }
   ],
   "source": [
    "testing_data = np.array([-3,4])\n",
    "\n",
    "testing_data.shape=(1,2)\n",
    "\n",
    "prediction = model.predict(testing_data)\n",
    "\n",
    "print(prediction)\n"
   ]
  },
  {
   "cell_type": "code",
   "execution_count": 9,
   "metadata": {},
   "outputs": [],
   "source": [
    "from matplotlib import pyplot"
   ]
  },
  {
   "cell_type": "code",
   "execution_count": 10,
   "metadata": {},
   "outputs": [
    {
     "data": {
      "text/plain": [
       "[<matplotlib.lines.Line2D at 0x7ff6101dd6d0>]"
      ]
     },
     "execution_count": 10,
     "metadata": {},
     "output_type": "execute_result"
    },
    {
     "data": {
      "image/png": "[encoded data removed]",
      "text/plain": [
       "<Figure size 432x288 with 1 Axes>"
      ]
     },
     "metadata": {
      "needs_background": "light"
     },
     "output_type": "display_data"
    }
   ],
   "source": [
    "pyplot.plot(history.history['loss'])"
   ]
  },
  {
   "cell_type": "code",
   "execution_count": null,
   "metadata": {},
   "outputs": [],
   "source": []
  }
 ],
 "metadata": {
  "kernelspec": {
   "display_name": "keras",
   "language": "python",
   "name": "keras"
  },
  "language_info": {
   "codemirror_mode": {
    "name": "ipython",
    "version": 3
   },
   "file_extension": ".py",
   "mimetype": "text/x-python",
   "name": "python",
   "nbconvert_exporter": "python",
   "pygments_lexer": "ipython3",
   "version": "3.7.10"
  }
 },
 "nbformat": 4,
 "nbformat_minor": 2
}
