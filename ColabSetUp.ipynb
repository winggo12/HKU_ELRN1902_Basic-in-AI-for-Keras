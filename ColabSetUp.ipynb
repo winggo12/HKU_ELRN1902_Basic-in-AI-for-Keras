{
 "cells": [
  {
   "cell_type": "code",
   "execution_count": null,
   "id": "54549e53",
   "metadata": {},
   "outputs": [],
   "source": [
    "!pip3 install tensorflow==2.5.0\n",
    "!pip3 install notebook\n",
    "!pip3 install matplotlib\n",
    "!pip3 install pandas\n",
    "!pip3 install opencv-python\n",
    "!pip3 install imutils\n",
    "!pip3 install sklearn"
   ]
  }
 ],
 "metadata": {
  "kernelspec": {
   "display_name": "keras",
   "language": "python",
   "name": "keras"
  },
  "language_info": {
   "codemirror_mode": {
    "name": "ipython",
    "version": 3
   },
   "file_extension": ".py",
   "mimetype": "text/x-python",
   "name": "python",
   "nbconvert_exporter": "python",
   "pygments_lexer": "ipython3",
   "version": "3.7.10"
  }
 },
 "nbformat": 4,
 "nbformat_minor": 5
}
